{
 "cells": [
  {
   "cell_type": "markdown",
   "metadata": {},
   "source": [
    "## Files"
   ]
  },
  {
   "cell_type": "markdown",
   "metadata": {},
   "source": [
    "#### Function to Create a file & Write some data"
   ]
  },
  {
   "cell_type": "code",
   "execution_count": 47,
   "metadata": {},
   "outputs": [
    {
     "name": "stdout",
     "output_type": "stream",
     "text": [
      "File is created successsully and Data is written\n"
     ]
    }
   ],
   "source": [
    "def createFile(filename):\n",
    "    f=open(filename,\"w\")\n",
    "    for i in range(10):\n",
    "        f.write(\"This is %d Line\\n\" %i)\n",
    "    print(\"File is created successsully and Data is written\")\n",
    "    f.close()\n",
    "    return\n",
    "createFile(\"file1.txt\")"
   ]
  },
  {
   "cell_type": "markdown",
   "metadata": {},
   "source": [
    "#### Function for reading the file data"
   ]
  },
  {
   "cell_type": "code",
   "execution_count": 48,
   "metadata": {},
   "outputs": [
    {
     "name": "stdout",
     "output_type": "stream",
     "text": [
      "This is 0 Line\n",
      "This is 1 Line\n",
      "This is 2 Line\n",
      "This is 3 Line\n",
      "This is 4 Line\n",
      "This is 5 Line\n",
      "This is 6 Line\n",
      "This is 7 Line\n",
      "This is 8 Line\n",
      "This is 9 Line\n",
      "\n"
     ]
    }
   ],
   "source": [
    "def readFile(filename):\n",
    "    f=open(filename,\"r\")\n",
    "    if f.mode==\"r\":\n",
    "        x=f.read()\n",
    "        print(x)\n",
    "    f.close()\n",
    "    return\n",
    "\n",
    "readFile(\"file1.txt\")"
   ]
  },
  {
   "cell_type": "markdown",
   "metadata": {},
   "source": [
    "####  Data to Append\n",
    "#### Function to Append the Data to Existing File"
   ]
  },
  {
   "cell_type": "code",
   "execution_count": 49,
   "metadata": {},
   "outputs": [],
   "source": [
    "def appendData(filename):\n",
    "    f=open(filename,\"a\")\n",
    "    f.write(\"New line 1\\n\")\n",
    "    f.write(\"New line 2\\n\")\n",
    "    f.close()\n",
    "    return\n",
    "\n",
    "appendData(\"file1.txt\")"
   ]
  },
  {
   "cell_type": "code",
   "execution_count": 50,
   "metadata": {},
   "outputs": [
    {
     "name": "stdout",
     "output_type": "stream",
     "text": [
      " Volume in drive C has no label.\n",
      " Volume Serial Number is CA3C-5884\n",
      "\n",
      " Directory of C:\\Users\\CSW\n",
      "\n",
      "27-06-19  AM 11:27    <DIR>          .\n",
      "27-06-19  AM 11:27    <DIR>          ..\n",
      "17-06-19  AM 10:19    <DIR>          .anaconda\n",
      "25-06-19  PM 04:32               459 .bash_history\n",
      "27-06-19  AM 11:06    <DIR>          .conda\n",
      "27-06-19  AM 09:20                43 .condarc\n",
      "27-06-19  AM 09:23    <DIR>          .ipynb_checkpoints\n",
      "22-06-19  AM 09:32    <DIR>          .ipython\n",
      "24-06-19  AM 09:13    <DIR>          .jupyter\n",
      "17-06-19  AM 09:31    <DIR>          Anaconda3\n",
      "27-06-19  AM 09:35             6,131 Contact Application.ipynb\n",
      "09-07-18  AM 09:10    <DIR>          Contacts\n",
      "27-06-19  AM 09:59             9,190 Control Flow Statements.ipynb\n",
      "25-06-19  PM 03:10    <DIR>          Desktop\n",
      "19-06-19  PM 04:26    <DIR>          Documents\n",
      "27-06-19  AM 10:37    <DIR>          Downloads\n",
      "27-06-19  AM 09:59             5,410 DS Binary Search & Bubble Sort.ipynb\n",
      "27-06-19  AM 10:02             6,964 DS Linear Search.ipynb\n",
      "09-07-18  AM 09:10    <DIR>          Favorites\n",
      "27-06-19  AM 11:27             6,036 File Management.ipynb\n",
      "27-06-19  AM 11:29               184 file1.txt\n",
      "27-06-19  AM 10:02            10,178 Functions and Arrays.ipynb\n",
      "26-06-19  PM 05:29             8,106 In-Built Math & RamdomFunctions.ipynb\n",
      "09-07-18  AM 09:10    <DIR>          Links\n",
      "09-07-18  AM 09:10    <DIR>          Music\n",
      "09-07-18  AM 09:10    <DIR>          Pictures\n",
      "27-06-19  AM 10:03             4,596 Python Dictionary & Dictionary Methods.ipynb\n",
      "09-07-18  AM 09:10    <DIR>          Saved Games\n",
      "03-09-18  PM 07:36    <DIR>          Searches\n",
      "27-06-19  AM 10:04             6,803 String Formatting (Str Fun & Str Methods).ipynb\n",
      "27-06-19  AM 10:05             6,712 Strings.ipynb\n",
      "27-06-19  AM 10:05             7,485 Tuple & Tuple Method.ipynb\n",
      "09-07-18  AM 09:10    <DIR>          Videos\n",
      "              14 File(s)         78,297 bytes\n",
      "              19 Dir(s)  86,016,098,304 bytes free\n"
     ]
    }
   ],
   "source": [
    "ls"
   ]
  },
  {
   "cell_type": "code",
   "execution_count": 51,
   "metadata": {},
   "outputs": [
    {
     "ename": "SyntaxError",
     "evalue": "invalid syntax (<ipython-input-51-0bccb725251b>, line 1)",
     "output_type": "error",
     "traceback": [
      "\u001b[1;36m  File \u001b[1;32m\"<ipython-input-51-0bccb725251b>\"\u001b[1;36m, line \u001b[1;32m1\u001b[0m\n\u001b[1;33m    cat file1.txt\u001b[0m\n\u001b[1;37m            ^\u001b[0m\n\u001b[1;31mSyntaxError\u001b[0m\u001b[1;31m:\u001b[0m invalid syntax\n"
     ]
    }
   ],
   "source": [
    "cat file1.txt"
   ]
  },
  {
   "cell_type": "markdown",
   "metadata": {},
   "source": [
    "#### Word Count using File I/O Python"
   ]
  },
  {
   "cell_type": "code",
   "execution_count": 65,
   "metadata": {},
   "outputs": [
    {
     "name": "stdout",
     "output_type": "stream",
     "text": [
      "10\n"
     ]
    }
   ],
   "source": [
    "def dataAnalysisWordCount(filename,word):\n",
    "    f=open(filename,\"r\")\n",
    "    if(f.mode==\"r\"):\n",
    "        x=f.read()\n",
    "        lst=x.split()\n",
    "    cnt=lst.count(word)\n",
    "    return cnt\n",
    "\n",
    "print(dataAnalysisWordCount(\"file1.txt\",\"This\"))"
   ]
  },
  {
   "cell_type": "markdown",
   "metadata": {},
   "source": [
    "#### Function to Count of Characters in the File"
   ]
  },
  {
   "cell_type": "code",
   "execution_count": 66,
   "metadata": {},
   "outputs": [
    {
     "name": "stdout",
     "output_type": "stream",
     "text": [
      "172\n"
     ]
    }
   ],
   "source": [
    "def countCharacter(filename):\n",
    "    f=open(filename,\"r\")\n",
    "    if(f.mode==\"r\"):\n",
    "        x=f.read()\n",
    "        lst=list(x)\n",
    "    return len(lst)\n",
    "\n",
    "print(countCharacter(\"file1.txt\"))"
   ]
  },
  {
   "cell_type": "markdown",
   "metadata": {},
   "source": [
    "#### Function to count the Upper Case Characters from the given list"
   ]
  },
  {
   "cell_type": "code",
   "execution_count": 63,
   "metadata": {},
   "outputs": [
    {
     "name": "stdout",
     "output_type": "stream",
     "text": [
      "22\n"
     ]
    }
   ],
   "source": [
    "def countCharacter(filename):\n",
    "    cnt=0\n",
    "    f=open(filename,\"r\")\n",
    "    if(f.mode==\"r\"):\n",
    "        x=f.read()\n",
    "        lst=list(x)\n",
    "    for i in lst:\n",
    "        if i.isupper():\n",
    "            cnt=cnt+1\n",
    "    return cnt\n",
    "\n",
    "print(countCharacter(\"file1.txt\"))"
   ]
  },
  {
   "cell_type": "markdown",
   "metadata": {},
   "source": [
    "#### Function to Count No of Lines"
   ]
  },
  {
   "cell_type": "code",
   "execution_count": 74,
   "metadata": {},
   "outputs": [
    {
     "name": "stdout",
     "output_type": "stream",
     "text": [
      "12\n"
     ]
    }
   ],
   "source": [
    "def countLines(filename):\n",
    "    cnt=0\n",
    "    f=open(filename,\"r\")\n",
    "    if(f.mode==\"r\"):\n",
    "        x=f.read()\n",
    "        lst=x.split(\"\\n\")\n",
    "    return len(lst)\n",
    "\n",
    "print(countLines(\"file1.txt\"))"
   ]
  }
 ],
 "metadata": {
  "kernelspec": {
   "display_name": "Python 3",
   "language": "python",
   "name": "python3"
  },
  "language_info": {
   "codemirror_mode": {
    "name": "ipython",
    "version": 3
   },
   "file_extension": ".py",
   "mimetype": "text/x-python",
   "name": "python",
   "nbconvert_exporter": "python",
   "pygments_lexer": "ipython3",
   "version": "3.7.3"
  }
 },
 "nbformat": 4,
 "nbformat_minor": 2
}
