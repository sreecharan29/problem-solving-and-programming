{
 "cells": [
  {
   "cell_type": "code",
   "execution_count": 3,
   "metadata": {},
   "outputs": [
    {
     "name": "stdout",
     "output_type": "stream",
     "text": [
      "False\n",
      "True\n"
     ]
    }
   ],
   "source": [
    "s=\"application\"\n",
    "s1='ANIL'\n",
    "print(s.isupper())\n",
    "print(s1.isupper())\n"
   ]
  },
  {
   "cell_type": "code",
   "execution_count": null,
   "metadata": {},
   "outputs": [],
   "source": []
  },
  {
   "cell_type": "code",
   "execution_count": 5,
   "metadata": {},
   "outputs": [
    {
     "name": "stdout",
     "output_type": "stream",
     "text": [
      "True\n",
      "False\n"
     ]
    }
   ],
   "source": [
    "s=\"application\"\n",
    "s1='app1889'\n",
    "print(s.isalpha())\n",
    "print(s1.isalpha())\n"
   ]
  },
  {
   "cell_type": "code",
   "execution_count": 6,
   "metadata": {},
   "outputs": [
    {
     "name": "stdout",
     "output_type": "stream",
     "text": [
      "True\n",
      "True\n"
     ]
    }
   ],
   "source": [
    "s=\"application\"\n",
    "s1='app1889'\n",
    "print(s.islower())\n",
    "print(s1.islower())\n"
   ]
  },
  {
   "cell_type": "code",
   "execution_count": 4,
   "metadata": {},
   "outputs": [
    {
     "name": "stdout",
     "output_type": "stream",
     "text": [
      "False\n",
      "True\n"
     ]
    }
   ],
   "source": [
    "s=\"application\"\n",
    "s1='1889'\n",
    "print(s.isnumeric())\n",
    "print(s1.isnumeric())\n"
   ]
  },
  {
   "cell_type": "code",
   "execution_count": 5,
   "metadata": {},
   "outputs": [
    {
     "name": "stdout",
     "output_type": "stream",
     "text": [
      "True\n",
      "False\n"
     ]
    }
   ],
   "source": [
    "s=\"Hi\"\n",
    "s1='app1889'\n",
    "print(s.istitle())\n",
    "print(s1.istitle())\n"
   ]
  },
  {
   "cell_type": "code",
   "execution_count": 22,
   "metadata": {},
   "outputs": [
    {
     "name": "stdout",
     "output_type": "stream",
     "text": [
      "False\n",
      "False\n"
     ]
    }
   ],
   "source": [
    "s=  \"python, charan\"\n",
    "s1='app1889'\n",
    "print(s.isspace())\n",
    "print(s1.isspace())\n"
   ]
  },
  {
   "cell_type": "code",
   "execution_count": 28,
   "metadata": {},
   "outputs": [
    {
     "name": "stdout",
     "output_type": "stream",
     "text": [
      "['python,', 'charan']\n",
      "['app1889']\n"
     ]
    }
   ],
   "source": [
    "s=  \"python, charan\"\n",
    "s1='app1889'\n",
    "print(s.split())\n",
    "print(s1.split())\n"
   ]
  },
  {
   "cell_type": "code",
   "execution_count": 33,
   "metadata": {},
   "outputs": [
    {
     "name": "stdout",
     "output_type": "stream",
     "text": [
      "p y t h o n   c h a r a n\n",
      "a p p 1 8 8 9\n"
     ]
    }
   ],
   "source": [
    "s=  \"python charan\"\n",
    "s1='app1889'\n",
    "print(\" \".join(s))\n",
    "print(\" \".join(s1))\n"
   ]
  },
  {
   "cell_type": "code",
   "execution_count": 35,
   "metadata": {},
   "outputs": [
    {
     "name": "stdout",
     "output_type": "stream",
     "text": [
      "python\n"
     ]
    }
   ],
   "source": [
    "s=\"python\"\n",
    "print(s.replace(\"gra\",\"applaction\"))"
   ]
  },
  {
   "cell_type": "code",
   "execution_count": 37,
   "metadata": {},
   "outputs": [
    {
     "name": "stdout",
     "output_type": "stream",
     "text": [
      "('python', 'programming', '1989', '2019', 'machine learning', 'ai')\n",
      "(1, 2, 3, 4, 5)\n"
     ]
    }
   ],
   "source": [
    "t1=(\"python\",\"programming\",\"1989\",\"2019\",\"machine learning\",\"ai\")\n",
    "t2=(1,2,3,4,5)\n",
    "print(t1)\n",
    "print(t2)\n",
    "\n"
   ]
  },
  {
   "cell_type": "code",
   "execution_count": 38,
   "metadata": {},
   "outputs": [
    {
     "name": "stdout",
     "output_type": "stream",
     "text": [
      "t1[0]=  python\n",
      "t1[2]=  1989\n",
      "t1[-1]=  ai\n",
      "t1[1:4]=  ('programming', '1989', '2019')\n",
      "t1[2:-2]=  ('1989', '2019')\n"
     ]
    }
   ],
   "source": [
    "t1=(\"python\",\"programming\",\"1989\",\"2019\",\"machine learning\",\"ai\")\n",
    "\n",
    "print(\"t1[0]= \",t1[0])\n",
    "print(\"t1[2]= \",t1[2])\n",
    "print(\"t1[-1]= \",t1[-1])\n",
    "print(\"t1[1:4]= \",t1[1:4])\n",
    "print(\"t1[2:-2]= \",t1[2:-2])\n",
    "\n"
   ]
  },
  {
   "cell_type": "code",
   "execution_count": 39,
   "metadata": {},
   "outputs": [
    {
     "data": {
      "text/plain": [
       "{'1', '2'}"
      ]
     },
     "execution_count": 39,
     "metadata": {},
     "output_type": "execute_result"
    }
   ],
   "source": [
    "d={'1','2'}\n",
    "d"
   ]
  },
  {
   "cell_type": "code",
   "execution_count": 43,
   "metadata": {},
   "outputs": [
    {
     "name": "stdout",
     "output_type": "stream",
     "text": [
      "{'name': 'anil', 'age': '19', 'emilid': 'anil@gmail.com'}\n"
     ]
    }
   ],
   "source": [
    "user1={'name':'anil','age':'19','emilid':'anil@gmail.com'}\n",
    "print(user1)"
   ]
  },
  {
   "cell_type": "code",
   "execution_count": 46,
   "metadata": {},
   "outputs": [
    {
     "name": "stdout",
     "output_type": "stream",
     "text": [
      "{'age': '19', 'emilid': 'anil@gmail.com'}\n"
     ]
    }
   ],
   "source": [
    "del user1['name']\n",
    "print(user1)"
   ]
  },
  {
   "cell_type": "code",
   "execution_count": 3,
   "metadata": {},
   "outputs": [
    {
     "name": "stdout",
     "output_type": "stream",
     "text": [
      "contact kittu added\n"
     ]
    }
   ],
   "source": [
    "contact={}\n",
    "def addcontact(name,phone):\n",
    "    #verify that contact doesnot always exists\n",
    "    if name not in contact:\n",
    "        contact[name]=phone\n",
    "        print(\"contact %s added\"% name)\n",
    "    else:\n",
    "        print(\"contact %s already exists\"% name)\n",
    "    return\n",
    "addcontact(\"kittu\",6969696969)\n",
    "addcontact(\"dgvd\",547384867678)"
   ]
  },
  {
   "cell_type": "code",
   "execution_count": 4,
   "metadata": {},
   "outputs": [
    {
     "name": "stdout",
     "output_type": "stream",
     "text": [
      "kittu  :  6969696969\n",
      "ajay does not exists\n",
      "harsha does not exists\n",
      "kranth does not exists\n"
     ]
    }
   ],
   "source": [
    "def searchcontact(name):\n",
    "    if name in contact:\n",
    "        print(name,\" : \",contact[name])\n",
    "    else:\n",
    "        print(\"%s does not exists\"% name)\n",
    "    return\n",
    "searchcontact(\"kittu\")\n",
    "searchcontact(\"ajay\")\n",
    "searchcontact(\"harsha\")\n",
    "searchcontact(\"kranth\")"
   ]
  },
  {
   "cell_type": "code",
   "execution_count": 5,
   "metadata": {},
   "outputs": [
    {
     "name": "stdout",
     "output_type": "stream",
     "text": [
      "kittu : is deleted from contacts\n"
     ]
    }
   ],
   "source": [
    "def deletcontact(name):\n",
    "    if name in contact:\n",
    "        del contact[name]\n",
    "        print(name,\": is deleted from contacts\")\n",
    "    else:\n",
    "        print(name,\":is not exists in the contact\")\n",
    "    return\n",
    "deletcontact(\"kittu\")\n"
   ]
  },
  {
   "cell_type": "code",
   "execution_count": 8,
   "metadata": {},
   "outputs": [
    {
     "name": "stdout",
     "output_type": "stream",
     "text": [
      "charan :is not exists in the contact\n",
      "sree :is not exists in the contact\n"
     ]
    }
   ],
   "source": [
    "def updatecontact(name,phone):\n",
    "    if name in contact:\n",
    "        contact[name]=phone\n",
    "        print(name,\": is updated from contacts\")\n",
    "    else:\n",
    "        print(name,\":is not exists in the contact\")\n",
    "    return\n",
    "updatecontact(\"charan\",6969696969)\n",
    "updatecontact(\"sree\",5857676755669)\n"
   ]
  },
  {
   "cell_type": "code",
   "execution_count": 9,
   "metadata": {},
   "outputs": [
    {
     "name": "stdout",
     "output_type": "stream",
     "text": [
      "51 101 86 39 95 68 61 66 55 41 "
     ]
    }
   ],
   "source": [
    "#generate the random number between two limits\n",
    "import random\n",
    "def generaterandomnumber(n,lb,ub):\n",
    "    for i in range(0,n):\n",
    "        print(random.randint(lb,ub),end=\" \")\n",
    "    return\n",
    "generaterandomnumber(10,12,120)"
   ]
  },
  {
   "cell_type": "code",
   "execution_count": null,
   "metadata": {},
   "outputs": [],
   "source": []
  }
 ],
 "metadata": {
  "kernelspec": {
   "display_name": "Python 3",
   "language": "python",
   "name": "python3"
  }
 },
 "nbformat": 4,
 "nbformat_minor": 2
}
