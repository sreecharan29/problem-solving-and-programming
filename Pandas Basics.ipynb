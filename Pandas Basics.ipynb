{
 "cells": [
  {
   "cell_type": "code",
   "execution_count": 1,
   "metadata": {},
   "outputs": [],
   "source": [
    "## Panda Data Frames and Data Analysis  "
   ]
  },
  {
   "cell_type": "code",
   "execution_count": 2,
   "metadata": {},
   "outputs": [
    {
     "name": "stdout",
     "output_type": "stream",
     "text": [
      "     Name           EmailID  Mobile Number\n",
      "0    Anil    anil@gmail.com             99\n",
      "1   Akhil   akhil@gmail.com             44\n",
      "2  Dinesh  dinesh@gmail.com             55\n",
      "3  Harsha  harsha@gmail.com             22\n",
      "4    Ajay    ajay@gmail.com             33\n",
      "5  Kranth  kranth@gmail.com             41\n"
     ]
    }
   ],
   "source": [
    "import pandas as pd\n",
    "dict={\"Name\":[\"Anil\",\"Akhil\",\"Dinesh\",\"Harsha\",\"Ajay\",\"Kranth\"],\n",
    "    \"EmailID\":[\"anil@gmail.com\",\"akhil@gmail.com\",\"dinesh@gmail.com\",\"harsha@gmail.com\",\"ajay@gmail.com\",\"kranth@gmail.com\"],\n",
    "    \"Mobile Number\":[99,44,55,22,33,41]}\n",
    "\n",
    "b=pd.DataFrame(dict)\n",
    "print(b)\n"
   ]
  },
  {
   "cell_type": "code",
   "execution_count": 4,
   "metadata": {},
   "outputs": [
    {
     "name": "stdout",
     "output_type": "stream",
     "text": [
      "      Name           EmailID  Mobile Number\n",
      "01    Anil    anil@gmail.com             99\n",
      "02   Akhil   akhil@gmail.com             44\n",
      "03  Dinesh  dinesh@gmail.com             55\n",
      "04  Harsha  harsha@gmail.com             22\n",
      "05    Ajay    ajay@gmail.com             33\n",
      "06  Kranth  kranth@gmail.com             41\n"
     ]
    }
   ],
   "source": [
    "b.index=[\"01\",\"02\",\"03\",\"04\",\"05\",\"06\"]\n",
    "print(b)"
   ]
  },
  {
   "cell_type": "code",
   "execution_count": 5,
   "metadata": {},
   "outputs": [],
   "source": [
    "#supermarket,csv - Analysis (which product has higher % of selling)\n",
    "# which products having least %"
   ]
  },
  {
   "cell_type": "code",
   "execution_count": 9,
   "metadata": {},
   "outputs": [
    {
     "name": "stdout",
     "output_type": "stream",
     "text": [
      "    this is 0 line\n",
      "0   this is 1 line\n",
      "1   this is 2 line\n",
      "2   this is 3 line\n",
      "3   this is 4 line\n",
      "4   this is 5 line\n",
      "5   this is 6 line\n",
      "6   this is 7 line\n",
      "7   this is 8 line\n",
      "8   this is 9 line\n",
      "9       New line 1\n",
      "10      New line 2\n"
     ]
    }
   ],
   "source": [
    "import pandas as pd\n",
    "product = pd.read_csv('file1.txt')\n",
    "print(product)"
   ]
  },
  {
   "cell_type": "code",
   "execution_count": null,
   "metadata": {},
   "outputs": [],
   "source": []
  }
 ],
 "metadata": {
  "kernelspec": {
   "display_name": "Python 3",
   "language": "python",
   "name": "python3"
  }
 },
 "nbformat": 4,
 "nbformat_minor": 2
}
